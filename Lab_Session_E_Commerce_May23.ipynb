{
  "cells": [
    {
      "cell_type": "markdown",
      "id": "2c8f47d3",
      "metadata": {
        "id": "2c8f47d3"
      },
      "source": [
        "# Lab Session"
      ]
    },
    {
      "cell_type": "markdown",
      "id": "f637aba6",
      "metadata": {
        "id": "f637aba6"
      },
      "source": [
        "## <font color='blue'> Table Of Contents </font>\n",
        "- Problem Statement\n",
        "- Load required libraries\n",
        "- Connect to DB using mysql-connector-python package\n",
        "- Create database named `e_commerce`\n",
        "- Create tables and insert data into tables as specified in the question\n",
        "- Read all the questions and write sql queries to meet the objective"
      ]
    },
    {
      "cell_type": "markdown",
      "id": "1073fc90",
      "metadata": {
        "id": "1073fc90"
      },
      "source": [
        "## <font color='blue'> Problem Statement </font>\n",
        "###  An E-commerce website manages its data in the form of various tables.\n",
        "You need to create a Database called `e_commerce` and various tables in it. The tables needed and attributes which need to be in every table are given before hand. All you have to do is create tables with data in it and answer some of the questions that follows."
      ]
    },
    {
      "cell_type": "markdown",
      "id": "d9abe6c7",
      "metadata": {
        "id": "d9abe6c7"
      },
      "source": [
        "### Load Required Libraries"
      ]
    },
    {
      "cell_type": "code",
      "execution_count": 1,
      "id": "0178d08e",
      "metadata": {
        "id": "0178d08e"
      },
      "outputs": [
        {
          "name": "stdout",
          "output_type": "stream",
          "text": [
            "Requirement already satisfied: mysql-connector-python in c:\\users\\hp\\appdata\\local\\programs\\python\\python312\\lib\\site-packages (9.1.0)\n",
            "Note: you may need to restart the kernel to use updated packages.\n"
          ]
        },
        {
          "name": "stderr",
          "output_type": "stream",
          "text": [
            "\n",
            "[notice] A new release of pip is available: 24.0 -> 24.2\n",
            "[notice] To update, run: python.exe -m pip install --upgrade pip\n"
          ]
        }
      ],
      "source": [
        "pip install mysql-connector-python\n"
      ]
    },
    {
      "cell_type": "markdown",
      "id": "d7d7fd5c",
      "metadata": {
        "id": "d7d7fd5c"
      },
      "source": [
        "### Connect to DB using Mysql-connector-python package"
      ]
    },
    {
      "cell_type": "code",
      "execution_count": 6,
      "id": "ef7bef72",
      "metadata": {
        "id": "ef7bef72"
      },
      "outputs": [],
      "source": [
        "import mysql.connector\n",
        "\n",
        "# Create a connection to MySQL\n",
        "conn = mysql.connector.connect(\n",
        "    host=\"localhost\",   # Change this to your MySQL host\n",
        "    user=\"root\",        # Change this to your MySQL username\n",
        "    password=\"password\" # Change this to your MySQL password\n",
        ")\n",
        "\n",
        "cursor = conn.cursor()\n"
      ]
    },
    {
      "cell_type": "markdown",
      "id": "9d55e510",
      "metadata": {
        "id": "9d55e510"
      },
      "source": [
        "### You are required to create a database named 'e_commerce'"
      ]
    },
    {
      "cell_type": "code",
      "execution_count": 7,
      "id": "42a154f2",
      "metadata": {
        "id": "42a154f2"
      },
      "outputs": [],
      "source": [
        "# Create a new database called 'e_commerce'\n",
        "cursor.execute(\"CREATE DATABASE IF NOT EXISTS e_commerce\")\n",
        "cursor.execute(\"USE e_commerce\")\n"
      ]
    },
    {
      "cell_type": "markdown",
      "id": "480dc986",
      "metadata": {
        "id": "480dc986"
      },
      "source": [
        "### Q1. Create tables for supplier, customer, category, product, productDetails, order, rating to store the data for the E-commerce with the schema definition given below.\n",
        "\n",
        "\n",
        "- **`supplier`**(SUPP_ID int primary key, SUPP_NAME varchar(50), SUPP_CITY varchar(50), SUPP_PHONE varchar(10))\n",
        "\n",
        "\n",
        "- **`customer`** (CUS_ID INT NOT NULL, CUS_NAME VARCHAR(20) NULL DEFAULT NULL, CUS_PHONE VARCHAR(10), CUS_CITY varchar(30) ,CUS_GENDER CHAR,PRIMARY KEY (CUS_ID))\n",
        "\n",
        "\n",
        "- **`category`** (CAT_ID INT NOT NULL, CAT_NAME VARCHAR(20) NULL DEFAULT NULL,PRIMARY KEY (CAT_ID))\n",
        "\n",
        "\n",
        "- **`product`** (PRO_ID INT NOT NULL, PRO_NAME VARCHAR(20) NULL DEFAULT NULL, PRO_DESC VARCHAR(60) NULL DEFAULT NULL, CAT_ID INT NOT NULL,PRIMARY KEY (PRO_ID),FOREIGN KEY (CAT_ID) REFERENCES CATEGORY (CAT_ID))\n",
        "\n",
        "\n",
        "- **`product_details`** (PROD_ID INT NOT NULL, PRO_ID INT NOT NULL, SUPP_ID INT NOT NULL, PROD_PRICE INT NOT NULL,\n",
        "  PRIMARY KEY (PROD_ID),FOREIGN KEY (PRO_ID) REFERENCES PRODUCT (PRO_ID), FOREIGN KEY (SUPP_ID) REFERENCES SUPPLIER(SUPP_ID))\n",
        "  \n",
        "  \n",
        "- **`order`** (ORD_ID INT NOT NULL, ORD_AMOUNT INT NOT NULL, ORD_DATE DATE, CUS_ID INT NOT NULL, PROD_ID INT NOT NULL,PRIMARY KEY (ORD_ID),FOREIGN KEY (CUS_ID) REFERENCES CUSTOMER(CUS_ID),FOREIGN KEY (PROD_ID) REFERENCES PRODUCT_DETAILS(PROD_ID))\n",
        "\n",
        "\n",
        "- **`rating`** (RAT_ID INT NOT NULL, CUS_ID INT NOT NULL, SUPP_ID INT NOT NULL, RAT_RATSTARS INT NOT NULL,PRIMARY KEY (RAT_ID),FOREIGN KEY (SUPP_ID) REFERENCES SUPPLIER (SUPP_ID),FOREIGN KEY (CUS_ID) REFERENCES CUSTOMER(CUS_ID))"
      ]
    },
    {
      "cell_type": "code",
      "execution_count": 8,
      "id": "967b718f",
      "metadata": {
        "id": "967b718f"
      },
      "outputs": [],
      "source": [
        "# Create supplier table\n",
        "cursor.execute(\"\"\"\n",
        "    CREATE TABLE IF NOT EXISTS supplier (\n",
        "        SUPP_ID INT PRIMARY KEY,\n",
        "        SUPP_NAME VARCHAR(50),\n",
        "        SUPP_CITY VARCHAR(50),\n",
        "        SUPP_PHONE VARCHAR(10)\n",
        "    )\n",
        "\"\"\")\n",
        "\n",
        "# Create customer table\n",
        "cursor.execute(\"\"\"\n",
        "    CREATE TABLE IF NOT EXISTS customer (\n",
        "        CUS_ID INT PRIMARY KEY,\n",
        "        CUS_NAME VARCHAR(20),\n",
        "        CUS_PHONE VARCHAR(10),\n",
        "        CUS_CITY VARCHAR(30),\n",
        "        CUS_GENDER CHAR\n",
        "    )\n",
        "\"\"\")\n",
        "\n",
        "# Create category table\n",
        "cursor.execute(\"\"\"\n",
        "    CREATE TABLE IF NOT EXISTS category (\n",
        "        CAT_ID INT PRIMARY KEY,\n",
        "        CAT_NAME VARCHAR(20)\n",
        "    )\n",
        "\"\"\")\n",
        "\n",
        "# Create product table\n",
        "cursor.execute(\"\"\"\n",
        "    CREATE TABLE IF NOT EXISTS product (\n",
        "        PRO_ID INT PRIMARY KEY,\n",
        "        PRO_NAME VARCHAR(20),\n",
        "        PRO_DESC VARCHAR(60),\n",
        "        CAT_ID INT,\n",
        "        FOREIGN KEY (CAT_ID) REFERENCES category (CAT_ID)\n",
        "    )\n",
        "\"\"\")\n",
        "\n",
        "# Create product_details table\n",
        "cursor.execute(\"\"\"\n",
        "    CREATE TABLE IF NOT EXISTS product_details (\n",
        "        PROD_ID INT PRIMARY KEY,\n",
        "        PRO_ID INT,\n",
        "        SUPP_ID INT,\n",
        "        PROD_PRICE INT,\n",
        "        FOREIGN KEY (PRO_ID) REFERENCES product(PRO_ID),\n",
        "        FOREIGN KEY (SUPP_ID) REFERENCES supplier(SUPP_ID)\n",
        "    )\n",
        "\"\"\")\n",
        "\n",
        "# Create orders table\n",
        "cursor.execute(\"\"\"\n",
        "    CREATE TABLE IF NOT EXISTS orders (\n",
        "        ORD_ID INT PRIMARY KEY,\n",
        "        ORD_AMOUNT INT,\n",
        "        ORD_DATE DATE,\n",
        "        CUS_ID INT,\n",
        "        PROD_ID INT,\n",
        "        FOREIGN KEY (CUS_ID) REFERENCES customer(CUS_ID),\n",
        "        FOREIGN KEY (PROD_ID) REFERENCES product_details(PROD_ID)\n",
        "    )\n",
        "\"\"\")\n",
        "\n",
        "# Create rating table\n",
        "cursor.execute(\"\"\"\n",
        "    CREATE TABLE IF NOT EXISTS rating (\n",
        "        RAT_ID INT PRIMARY KEY,\n",
        "        CUS_ID INT,\n",
        "        SUPP_ID INT,\n",
        "        RAT_RATSTARS INT,\n",
        "        FOREIGN KEY (SUPP_ID) REFERENCES supplier(SUPP_ID),\n",
        "        FOREIGN KEY (CUS_ID) REFERENCES customer(CUS_ID)\n",
        "    )\n",
        "\"\"\")\n"
      ]
    },
    {
      "cell_type": "markdown",
      "id": "1f653731",
      "metadata": {
        "id": "1f653731"
      },
      "source": [
        "### Q2. Insert the following data in the table created above\n",
        "#### `Note:` If you are getting any error while inserting the data into tables, Kindly close the connection and reconnect\n",
        "\n",
        "#### Table:  supplier\n",
        "| SUPP_ID | SUPP_NAME | SUPP_CITY | SUPP_PHONE |\n",
        "| --- | --- | --- | --- |\n",
        "| 1 | Rajesh Retails | Delhi | 1234567890 |\n",
        "| 2 | Appario Ltd. | Mumbai | 258963147032 |\n",
        "| 3 | Knome products | Bangalore | 9785462315 |\n",
        "| 4 | Bansal Retails | Kochi | 8975463285 |\n",
        "| 5 | Mittal Ltd. | Lucknow | 7898456532 |"
      ]
    },
    {
      "cell_type": "code",
      "execution_count": 9,
      "id": "f6dddd07",
      "metadata": {
        "id": "f6dddd07"
      },
      "outputs": [],
      "source": [
        "# Insert data into supplier table\n",
        "cursor.execute(\"\"\"\n",
        "    INSERT INTO supplier (SUPP_ID, SUPP_NAME, SUPP_CITY, SUPP_PHONE)\n",
        "    VALUES (1, 'Rajesh Retails', 'Delhi', '1234567890'),\n",
        "           (2, 'Appario Ltd.', 'Mumbai', '2589631470'),\n",
        "           (3, 'Knome products', 'Bangalore', '9785462315'),\n",
        "           (4, 'Bansal Retails', 'Kochi', '8975463285'),\n",
        "           (5, 'Mittal Ltd.', 'Lucknow', '7898456532')\n",
        "\"\"\")\n"
      ]
    },
    {
      "cell_type": "markdown",
      "id": "e8a070a6",
      "metadata": {
        "id": "e8a070a6"
      },
      "source": [
        "#### Table:  customer\n",
        "| CUS_ID | CUS_NAME | SUPP_PHONE | CUS_CITY | CUS_GENDER\n",
        "| --- | --- | --- | --- | --- |\n",
        "| 1 | AAKASH | 9999999999 | DELHI | M |\n",
        "| 2 | AMAN | 9785463215 | NOIDA | M |\n",
        "| 3 | NEHA | 9999999998 | MUMBAI | F |\n",
        "| 4 | MEGHA | 9994562399 | KOLKATA | F |\n",
        "| 5 | PULKIT | 7895999999 | LUCKNOW | M |"
      ]
    },
    {
      "cell_type": "code",
      "execution_count": 10,
      "id": "15a4ee87",
      "metadata": {
        "id": "15a4ee87"
      },
      "outputs": [],
      "source": [
        "# Insert data into customer table\n",
        "cursor.execute(\"\"\"\n",
        "    INSERT INTO customer (CUS_ID, CUS_NAME, CUS_PHONE, CUS_CITY, CUS_GENDER)\n",
        "    VALUES (1, 'AAKASH', '9999999999', 'DELHI', 'M'),\n",
        "           (2, 'AMAN', '9785463215', 'NOIDA', 'M'),\n",
        "           (3, 'NEHA', '9999999998', 'MUMBAI', 'F'),\n",
        "           (4, 'MEGHA', '9994562399', 'KOLKATA', 'F'),\n",
        "           (5, 'PULKIT', '7895999999', 'LUCKNOW', 'M')\n",
        "\"\"\")\n"
      ]
    },
    {
      "cell_type": "markdown",
      "id": "b68bfbc2",
      "metadata": {
        "id": "b68bfbc2"
      },
      "source": [
        "#### Table:  category\n",
        "| CAT_ID | CAT_NAME |\n",
        "| --- | --- |  \n",
        "| 1 | BOOKS |\n",
        "| 2 | GAMES |  \n",
        "| 3 | GROCERIES |\n",
        "| 4 | ELECTRONICS |\n",
        "| 5 | CLOTHES |"
      ]
    },
    {
      "cell_type": "code",
      "execution_count": 11,
      "id": "05a00abc",
      "metadata": {
        "id": "05a00abc"
      },
      "outputs": [],
      "source": [
        "# Insert data into category table\n",
        "cursor.execute(\"\"\"\n",
        "    INSERT INTO category (CAT_ID, CAT_NAME)\n",
        "    VALUES (1, 'BOOKS'),\n",
        "           (2, 'GAMES'),\n",
        "           (3, 'GROCERIES'),\n",
        "           (4, 'ELECTRONICS'),\n",
        "           (5, 'CLOTHES')\n",
        "\"\"\")\n"
      ]
    },
    {
      "cell_type": "markdown",
      "id": "eb3bc592",
      "metadata": {
        "id": "eb3bc592"
      },
      "source": [
        "#### Table:  product\n",
        "| PRO_ID | PRO_NAME | PRO_DESC | CAT_ID |\n",
        "| --- | --- | --- | --- |\n",
        "| 1 | GTA V | DFJDJFDJFDJFDJFJF | 2 |\n",
        "| 2 | TSHIRT | DFDFJDFJDKFD | 5 |\n",
        "| 3 | ROG LAPTOP | DFNTTNTNTERND | 4 |\n",
        "| 4 | OATS | REURENTBTOTH | 3 |\n",
        "| 5 | HARRY POTTER | NBEMCTHTJTH | 1 |\n"
      ]
    },
    {
      "cell_type": "code",
      "execution_count": 12,
      "id": "cdfbdfad",
      "metadata": {
        "id": "cdfbdfad"
      },
      "outputs": [],
      "source": [
        "# Insert data into product table\n",
        "cursor.execute(\"\"\"\n",
        "    INSERT INTO product (PRO_ID, PRO_NAME, PRO_DESC, CAT_ID)\n",
        "    VALUES (1, 'GTA V', 'DFJDJFDFJDFDJFJF', 2),\n",
        "           (2, 'TSHIRT', 'DFJDJFDFJDFDJFDK', 5),\n",
        "           (3, 'ROG LAPTOP', 'ROG GAMING LAPTOP', 4),\n",
        "           (4, 'OATS', 'HEALTHY OATS', 3),\n",
        "           (5, 'HARRY POTTER', 'BOOK BY JK ROWLING', 1)\n",
        "\"\"\")\n"
      ]
    },
    {
      "cell_type": "markdown",
      "id": "cfa8a47d",
      "metadata": {
        "id": "cfa8a47d"
      },
      "source": [
        "#### Table:  product_details\n",
        "| PROD_ID | PRO_ID | SUPP_ID | PROD_PRICE |\n",
        "| --- | --- | --- | --- |\n",
        "| 1 | 1 | 2 | 1500 |\n",
        "| 2 | 3 | 5 | 30000 |\n",
        "| 3 | 5 | 1 | 3000 |\n",
        "| 4 | 2 | 3 | 2500 |\n",
        "| 5 | 4 | 1 | 1000 |"
      ]
    },
    {
      "cell_type": "code",
      "execution_count": 13,
      "id": "c18ea964",
      "metadata": {
        "id": "c18ea964"
      },
      "outputs": [],
      "source": [
        "# Insert data into product_details table\n",
        "cursor.execute(\"\"\"\n",
        "    INSERT INTO product_details (PROD_ID, PRO_ID, SUPP_ID, PROD_PRICE)\n",
        "    VALUES (1, 1, 1, 1500),\n",
        "           (2, 2, 2, 500),\n",
        "           (3, 3, 3, 70000),\n",
        "           (4, 4, 4, 100),\n",
        "           (5, 5, 5, 1200)\n",
        "\"\"\")\n"
      ]
    },
    {
      "cell_type": "markdown",
      "id": "1df49086",
      "metadata": {
        "id": "1df49086"
      },
      "source": [
        "#### Table:  orders\n",
        "| ORD_ID | ORD_AMOUNT | ORD_DATE | CUS_ID | PROD_ID\n",
        "| --- | --- | --- | --- | --- |\n",
        "| 20 | 1500 | 2021-10-12 | 3 | 5 |\n",
        "| 25 | 30500 | 2021-09-16 | 5 | 2 |\n",
        "| 26 | 2000 | 2021-10-05 | 1 | 1 |\n",
        "| 30 | 3500 | 2021-08-16 | 4 | 3 |\n",
        "| 50 | 2000 | 2021-10-06 | 2 | 1 |"
      ]
    },
    {
      "cell_type": "code",
      "execution_count": 14,
      "id": "0d97dc92",
      "metadata": {
        "id": "0d97dc92"
      },
      "outputs": [],
      "source": [
        "# Insert data into orders table\n",
        "cursor.execute(\"\"\"\n",
        "    INSERT INTO orders (ORD_ID, ORD_AMOUNT, ORD_DATE, CUS_ID, PROD_ID)\n",
        "    VALUES (1, 1, '2023-01-10', 1, 1),\n",
        "           (2, 1, '2023-02-12', 2, 2),\n",
        "           (3, 1, '2023-03-05', 3, 3),\n",
        "           (4, 1, '2023-04-10', 4, 4),\n",
        "           (5, 1, '2023-05-15', 5, 5)\n",
        "\"\"\")\n"
      ]
    },
    {
      "cell_type": "markdown",
      "id": "75b8ce5f",
      "metadata": {
        "id": "75b8ce5f"
      },
      "source": [
        "#### Table: rating\n",
        "| RAT_ID | CUS_ID | SUPP_ID | RAT_RATSTARS |\n",
        "| --- | --- | --- | --- |\n",
        "| 1 | 2 | 2 | 4 |\n",
        "| 2 | 3 | 4 | 3 |\n",
        "| 3 | 5 | 1 | 5 |\n",
        "| 4 | 1 | 3 | 2 |\n",
        "| 5 | 4 | 5 | 4 |"
      ]
    },
    {
      "cell_type": "code",
      "execution_count": 15,
      "id": "6d5f1e18",
      "metadata": {
        "id": "6d5f1e18"
      },
      "outputs": [],
      "source": [
        "# Insert data into rating table\n",
        "cursor.execute(\"\"\"\n",
        "    INSERT INTO rating (RAT_ID, CUS_ID, SUPP_ID, RAT_RATSTARS)\n",
        "    VALUES (1, 1, 1, 4),\n",
        "           (2, 2, 2, 5),\n",
        "           (3, 3, 3, 3),\n",
        "           (4, 4, 4, 4),\n",
        "           (5, 5, 5, 5)\n",
        "\"\"\")\n"
      ]
    },
    {
      "cell_type": "markdown",
      "id": "b59361c3",
      "metadata": {
        "id": "b59361c3"
      },
      "source": [
        "### Q3) Display the number of the customer group by their genders who have placed any order of amount greater than or equal to Rs.3000."
      ]
    },
    {
      "cell_type": "code",
      "execution_count": 16,
      "id": "fcafaf3c",
      "metadata": {
        "id": "fcafaf3c"
      },
      "outputs": [
        {
          "name": "stdout",
          "output_type": "stream",
          "text": [
            "Orders with amount >= 3000: []\n"
          ]
        }
      ],
      "source": [
        "cursor.execute(\"SELECT * FROM orders WHERE ORD_AMOUNT >= 3000\")\n",
        "orders_check = cursor.fetchall()\n",
        "print(\"Orders with amount >= 3000:\", orders_check)\n"
      ]
    },
    {
      "cell_type": "markdown",
      "id": "e49e04f5",
      "metadata": {
        "id": "e49e04f5"
      },
      "source": [
        "### Q4) Display all the order along with product name ordered by a customer having Customer_Id=2;"
      ]
    },
    {
      "cell_type": "code",
      "execution_count": 17,
      "id": "9dcb7883",
      "metadata": {
        "id": "9dcb7883"
      },
      "outputs": [
        {
          "name": "stdout",
          "output_type": "stream",
          "text": [
            "Customers and their orders: [(1, 'AAKASH', 'M', 1), (2, 'AMAN', 'M', 1), (3, 'NEHA', 'F', 1), (4, 'MEGHA', 'F', 1), (5, 'PULKIT', 'M', 1)]\n"
          ]
        }
      ],
      "source": [
        "cursor.execute(\"\"\"\n",
        "    SELECT DISTINCT customer.CUS_ID, customer.CUS_NAME, customer.CUS_GENDER, orders.ORD_AMOUNT\n",
        "    FROM customer\n",
        "    JOIN orders ON customer.CUS_ID = orders.CUS_ID\n",
        "\"\"\")\n",
        "customer_orders_check = cursor.fetchall()\n",
        "print(\"Customers and their orders:\", customer_orders_check)\n"
      ]
    },
    {
      "cell_type": "markdown",
      "id": "3a33398e",
      "metadata": {
        "id": "3a33398e"
      },
      "source": [
        "### Q5) Display the Supplier details who can supply more than one product."
      ]
    },
    {
      "cell_type": "code",
      "execution_count": 26,
      "id": "e933b979",
      "metadata": {
        "id": "e933b979"
      },
      "outputs": [
        {
          "name": "stdout",
          "output_type": "stream",
          "text": [
            "Suppliers with more than one product: []\n"
          ]
        }
      ],
      "source": [
        "# Query to find suppliers who supply more than one product\n",
        "cursor.execute(\"\"\"\n",
        "    SELECT supplier.SUPP_ID, supplier.SUPP_NAME, supplier.SUPP_PHONE\n",
        "    FROM supplier\n",
        "    JOIN product_details ON supplier.SUPP_ID = product_details.SUPP_ID\n",
        "    GROUP BY supplier.SUPP_ID, supplier.SUPP_NAME, supplier.SUPP_PHONE\n",
        "    HAVING COUNT(DISTINCT product_details.PRO_ID) > 1\n",
        "\"\"\")\n",
        "suppliers_with_multiple_products = cursor.fetchall()\n",
        "print(\"Suppliers with more than one product:\", suppliers_with_multiple_products)\n"
      ]
    },
    {
      "cell_type": "markdown",
      "id": "5fd319ef",
      "metadata": {
        "id": "5fd319ef"
      },
      "source": [
        "### Q6) Find the category of the product whose order amount is minimum."
      ]
    },
    {
      "cell_type": "code",
      "execution_count": 31,
      "id": "06f5cb51",
      "metadata": {
        "id": "06f5cb51"
      },
      "outputs": [
        {
          "name": "stdout",
          "output_type": "stream",
          "text": [
            "Category of the product with the minimum order amount: [(2, 'GAMES'), (5, 'CLOTHES'), (4, 'ELECTRONICS'), (3, 'GROCERIES'), (1, 'BOOKS')]\n"
          ]
        }
      ],
      "source": [
        "# Query to find the category of the product with the minimum order amount\n",
        "cursor.execute(\"\"\"\n",
        "    SELECT category.CAT_ID, category.CAT_NAME\n",
        "    FROM orders\n",
        "    JOIN product_details ON orders.PROD_ID = product_details.PRO_ID\n",
        "    JOIN product ON product_details.PRO_ID = product.PRO_ID\n",
        "    JOIN category ON product.CAT_ID = category.CAT_ID\n",
        "    WHERE orders.ORD_AMOUNT = (\n",
        "        SELECT MIN(ORD_AMOUNT) FROM orders\n",
        "    )\n",
        "\"\"\")\n",
        "category_of_min_order = cursor.fetchall()\n",
        "print(\"Category of the product with the minimum order amount:\", category_of_min_order)\n"
      ]
    },
    {
      "cell_type": "markdown",
      "id": "107102d4",
      "metadata": {
        "id": "107102d4"
      },
      "source": [
        "### Q7) Display the Id and Name of the Product ordered after “2021-10-05”."
      ]
    },
    {
      "cell_type": "code",
      "execution_count": 32,
      "id": "5d3fc7e8",
      "metadata": {
        "id": "5d3fc7e8"
      },
      "outputs": [
        {
          "name": "stdout",
          "output_type": "stream",
          "text": [
            "Products ordered after '2021-10-05': [(1, 'GTA V'), (2, 'TSHIRT'), (3, 'ROG LAPTOP'), (4, 'OATS'), (5, 'HARRY POTTER')]\n"
          ]
        }
      ],
      "source": [
        "# Query to get the ID and name of products ordered after \"2021-10-05\"\n",
        "cursor.execute(\"\"\"\n",
        "    SELECT product.PRO_ID, product.PRO_NAME\n",
        "    FROM orders\n",
        "    JOIN product_details ON orders.PROD_ID = product_details.PRO_ID\n",
        "    JOIN product ON product_details.PRO_ID = product.PRO_ID\n",
        "    WHERE orders.ORD_DATE > '2021-10-05'\n",
        "\"\"\")\n",
        "products_after_date = cursor.fetchall()\n",
        "print(\"Products ordered after '2021-10-05':\", products_after_date)\n"
      ]
    },
    {
      "cell_type": "markdown",
      "id": "bdce7167",
      "metadata": {
        "id": "bdce7167"
      },
      "source": [
        "### Q8) Print the top 3 supplier name and id and rating on the basis of their rating along with the customer name who has given the rating."
      ]
    },
    {
      "cell_type": "code",
      "execution_count": 42,
      "id": "fa0cbe44",
      "metadata": {
        "id": "fa0cbe44"
      },
      "outputs": [
        {
          "name": "stdout",
          "output_type": "stream",
          "text": [
            "Top 3 Suppliers based on rating:\n",
            "Supplier ID: 2, Name: Appario Ltd., Rating: 5, Customer: AMAN\n",
            "Supplier ID: 5, Name: Mittal Ltd., Rating: 5, Customer: PULKIT\n",
            "Supplier ID: 1, Name: Rajesh Retails, Rating: 4, Customer: AAKASH\n"
          ]
        }
      ],
      "source": [
        "# Query to get the top 3 suppliers based on their rating along with customer names\n",
        "cursor.execute(\"\"\"\n",
        "    SELECT supplier.SUPP_ID, supplier.SUPP_NAME, rating.RAT_RATSTARS, customer.CUS_NAME\n",
        "    FROM supplier\n",
        "    JOIN rating ON supplier.SUPP_ID = rating.SUPP_ID\n",
        "    JOIN customer ON rating.CUS_ID = customer.CUS_ID\n",
        "    ORDER BY rating.RAT_RATSTARS DESC\n",
        "    LIMIT 3\n",
        "\"\"\")\n",
        "top_suppliers = cursor.fetchall()\n",
        "\n",
        "# Printing the results\n",
        "print(\"Top 3 Suppliers based on rating:\")\n",
        "for supplier in top_suppliers:\n",
        "    print(f\"Supplier ID: {supplier[0]}, Name: {supplier[1]}, Rating: {supplier[2]}, Customer: {supplier[3]}\")\n"
      ]
    },
    {
      "cell_type": "markdown",
      "id": "346ec2a1",
      "metadata": {
        "id": "346ec2a1"
      },
      "source": [
        "### Q9) Display customer name and gender whose names start or end with character 'A'."
      ]
    },
    {
      "cell_type": "code",
      "execution_count": 43,
      "id": "e571b5fd",
      "metadata": {
        "id": "e571b5fd"
      },
      "outputs": [
        {
          "name": "stdout",
          "output_type": "stream",
          "text": [
            "Customers whose names start or end with 'A':\n",
            "Name: AAKASH, Gender: M\n",
            "Name: AMAN, Gender: M\n",
            "Name: NEHA, Gender: F\n",
            "Name: MEGHA, Gender: F\n"
          ]
        }
      ],
      "source": [
        "# Query to find customer names and genders starting or ending with 'A'\n",
        "cursor.execute(\"\"\"\n",
        "    SELECT CUS_NAME, CUS_GENDER\n",
        "    FROM customer\n",
        "    WHERE CUS_NAME LIKE 'A%' OR CUS_NAME LIKE '%A'\n",
        "\"\"\")\n",
        "customers_with_A = cursor.fetchall()\n",
        "\n",
        "# Printing the results\n",
        "print(\"Customers whose names start or end with 'A':\")\n",
        "for customer in customers_with_A:\n",
        "    print(f\"Name: {customer[0]}, Gender: {customer[1]}\")\n"
      ]
    },
    {
      "cell_type": "markdown",
      "id": "d0b01f77",
      "metadata": {
        "id": "d0b01f77"
      },
      "source": [
        "### Q10) Display the total order amount of the male customers."
      ]
    },
    {
      "cell_type": "code",
      "execution_count": 44,
      "id": "c3fa76e3",
      "metadata": {
        "id": "c3fa76e3"
      },
      "outputs": [
        {
          "name": "stdout",
          "output_type": "stream",
          "text": [
            "Total order amount of male customers: 3\n"
          ]
        }
      ],
      "source": [
        "# Query to get the total order amount of male customers\n",
        "cursor.execute(\"\"\"\n",
        "    SELECT SUM(o.ORD_AMOUNT) AS Total_Order_Amount\n",
        "    FROM orders o\n",
        "    JOIN customer c ON o.CUS_ID = c.CUS_ID\n",
        "    WHERE c.CUS_GENDER = 'M'\n",
        "\"\"\")\n",
        "total_amount = cursor.fetchone()[0]  # Fetching the result\n",
        "\n",
        "# Printing the result\n",
        "print(f\"Total order amount of male customers: {total_amount if total_amount is not None else 0}\")\n"
      ]
    },
    {
      "cell_type": "markdown",
      "id": "ff8a9971",
      "metadata": {
        "id": "ff8a9971"
      },
      "source": [
        "### Q11) Display all the Customers left outer join with  the orders"
      ]
    },
    {
      "cell_type": "code",
      "execution_count": 45,
      "id": "a340c6d6",
      "metadata": {
        "id": "a340c6d6"
      },
      "outputs": [
        {
          "name": "stdout",
          "output_type": "stream",
          "text": [
            "(1, 'AAKASH', 'M', 1, 1)\n",
            "(2, 'AMAN', 'M', 2, 1)\n",
            "(3, 'NEHA', 'F', 3, 1)\n",
            "(4, 'MEGHA', 'F', 4, 1)\n",
            "(5, 'PULKIT', 'M', 5, 1)\n"
          ]
        }
      ],
      "source": [
        "# Query to get all customers with left outer join on orders\n",
        "cursor.execute(\"\"\"\n",
        "    SELECT c.CUS_ID, c.CUS_NAME, c.CUS_GENDER, o.ORD_ID, o.ORD_AMOUNT\n",
        "    FROM customer c\n",
        "    LEFT JOIN orders o ON c.CUS_ID = o.CUS_ID\n",
        "\"\"\")\n",
        "customers_with_orders = cursor.fetchall()  # Fetching all results\n",
        "\n",
        "# Printing the result\n",
        "for customer in customers_with_orders:\n",
        "    print(customer)\n"
      ]
    },
    {
      "cell_type": "markdown",
      "id": "0a72afe3",
      "metadata": {
        "id": "0a72afe3"
      },
      "source": [
        "**NOTE:** Always close an open connection once you are done with the database operations"
      ]
    },
    {
      "cell_type": "markdown",
      "id": "8c88f479",
      "metadata": {
        "id": "8c88f479"
      },
      "source": [
        "## Happy Learning:)"
      ]
    }
  ],
  "metadata": {
    "colab": {
      "provenance": []
    },
    "kernelspec": {
      "display_name": "Python 3",
      "language": "python",
      "name": "python3"
    },
    "language_info": {
      "codemirror_mode": {
        "name": "ipython",
        "version": 3
      },
      "file_extension": ".py",
      "mimetype": "text/x-python",
      "name": "python",
      "nbconvert_exporter": "python",
      "pygments_lexer": "ipython3",
      "version": "3.12.2"
    }
  },
  "nbformat": 4,
  "nbformat_minor": 5
}
